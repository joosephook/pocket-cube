{
 "cells": [
  {
   "cell_type": "code",
   "execution_count": 1,
   "id": "e863ab66",
   "metadata": {},
   "outputs": [],
   "source": [
    "import baseline as b\n",
    "import faster_moves as fm"
   ]
  },
  {
   "cell_type": "code",
   "execution_count": 2,
   "id": "6a32683d",
   "metadata": {},
   "outputs": [
    {
     "name": "stdout",
     "output_type": "stream",
     "text": [
      "9.51 µs ± 41.6 ns per loop (mean ± std. dev. of 3 runs, 100,000 loops each)\n"
     ]
    }
   ],
   "source": [
    "b_cube = b.fresh_cube()\n",
    "B = b.B\n",
    "%timeit -r 3 B(b_cube)"
   ]
  },
  {
   "cell_type": "code",
   "execution_count": 3,
   "id": "eeea91a1",
   "metadata": {},
   "outputs": [
    {
     "name": "stdout",
     "output_type": "stream",
     "text": [
      "138 ns ± 0.144 ns per loop (mean ± std. dev. of 3 runs, 10,000,000 loops each)\n",
      "1.15 µs ± 9.08 ns per loop (mean ± std. dev. of 3 runs, 1,000,000 loops each)\n"
     ]
    }
   ],
   "source": [
    "fm_cube = fm.fresh_cube()\n",
    "B = fm.B\n",
    "idx = [0, 1, 2, 17, 4, 5, 9, 7, 3, 15, 22, 10, 12, 13, 14, 16, 6, 18, 8, 19, 20, 21, 23, 11]\n",
    "%timeit -r 3 B(fm_cube)\n",
    "%timeit -r 3 fm_cube[idx]"
   ]
  },
  {
   "cell_type": "code",
   "execution_count": 4,
   "id": "bf25d15f",
   "metadata": {},
   "outputs": [
    {
     "name": "stdout",
     "output_type": "stream",
     "text": [
      "10.2 s ± 5.75 ms per loop (mean ± std. dev. of 3 runs, 1 loop each)\n",
      "(6, 24)\n",
      "(6, 24)\n",
      "(6, 24)\n",
      "(6, 24)\n",
      "11.9 s ± 92.5 ms per loop (mean ± std. dev. of 3 runs, 1 loop each)\n",
      "11.4 s ± 167 ms per loop (mean ± std. dev. of 3 runs, 1 loop each)\n"
     ]
    }
   ],
   "source": [
    "%timeit -r 3 fm.unique_configurations()\n",
    "%timeit -r 3 fm.unique_configurations_constrained()\n",
    "%timeit -r 3 fm.unique_configurations_more_constrained()"
   ]
  },
  {
   "cell_type": "code",
   "execution_count": 5,
   "id": "fa7ef2a9",
   "metadata": {},
   "outputs": [
    {
     "name": "stdout",
     "output_type": "stream",
     "text": [
      "3min 40s ± 199 ms per loop (mean ± std. dev. of 3 runs, 1 loop each)\n",
      "3min 11s ± 526 ms per loop (mean ± std. dev. of 3 runs, 1 loop each)\n",
      "2min 48s ± 2.45 s per loop (mean ± std. dev. of 3 runs, 1 loop each)\n"
     ]
    }
   ],
   "source": [
    "%timeit -r 3 b.unique_configurations()\n",
    "%timeit -r 3 b.unique_configurations_constrained()\n",
    "%timeit -r 3 b.unique_configurations_more_constrained()"
   ]
  },
  {
   "cell_type": "code",
   "execution_count": 10,
   "id": "ff29752b",
   "metadata": {},
   "outputs": [],
   "source": [
    "import numpy as np"
   ]
  },
  {
   "cell_type": "code",
   "execution_count": 6,
   "id": "ef54ff26",
   "metadata": {},
   "outputs": [
    {
     "name": "stdout",
     "output_type": "stream",
     "text": [
      "[[0 1 2]\n",
      " [3 4 5]\n",
      " [6 7 8]]\n",
      "[[0 1 2]\n",
      " [3 4 5]\n",
      " [6 7 8]]\n",
      "1.11 µs ± 2.71 ns per loop (mean ± std. dev. of 7 runs, 1,000,000 loops each)\n",
      "700 ns ± 1.42 ns per loop (mean ± std. dev. of 7 runs, 1,000,000 loops each)\n"
     ]
    }
   ],
   "source": [
    "a = np.arange(9).reshape(3,3)\n",
    "i = np.arange(3)\n",
    "print(a[[0,1,2]])\n",
    "print(a[i])\n",
    "j = [0,1,2]\n",
    "%timeit a[j]\n",
    "%timeit a[i]"
   ]
  },
  {
   "cell_type": "code",
   "execution_count": 7,
   "id": "431da5fd",
   "metadata": {},
   "outputs": [
    {
     "name": "stdout",
     "output_type": "stream",
     "text": [
      "529 ns ± 8.87 ns per loop (mean ± std. dev. of 7 runs, 1,000,000 loops each)\n",
      "526 ns ± 7.12 ns per loop (mean ± std. dev. of 7 runs, 1,000,000 loops each)\n",
      "110 ns ± 0.122 ns per loop (mean ± std. dev. of 7 runs, 10,000,000 loops each)\n"
     ]
    }
   ],
   "source": [
    "a = np.arange(24).astype(np.uint8)\n",
    "i = np.array([0, 1, 2, 17, 4, 5, 9, 7, 3, 15, 22, 10, 12, 13, 14, 16, 6, 18, 8, 19, 20, 21, 23, 11]).astype(np.uint8)\n",
    "j = i.astype(np.int32)\n",
    "k = i.astype(np.int64)\n",
    "\n",
    "%timeit a[i]\n",
    "%timeit a[j]\n",
    "%timeit a[k]"
   ]
  },
  {
   "cell_type": "code",
   "execution_count": 8,
   "id": "184eeb04",
   "metadata": {},
   "outputs": [
    {
     "name": "stdout",
     "output_type": "stream",
     "text": [
      "507 ns ± 7.17 ns per loop (mean ± std. dev. of 7 runs, 1,000,000 loops each)\n",
      "510 ns ± 5.86 ns per loop (mean ± std. dev. of 7 runs, 1,000,000 loops each)\n",
      "115 ns ± 0.377 ns per loop (mean ± std. dev. of 7 runs, 10,000,000 loops each)\n"
     ]
    }
   ],
   "source": [
    "a = np.arange(24).astype(np.int32)\n",
    "i = np.array([0, 1, 2, 17, 4, 5, 9, 7, 3, 15, 22, 10, 12, 13, 14, 16, 6, 18, 8, 19, 20, 21, 23, 11]).astype(np.uint8)\n",
    "j = i.astype(np.int32)\n",
    "k = i.astype(np.int64)\n",
    "\n",
    "%timeit a[i]\n",
    "%timeit a[j]\n",
    "%timeit a[k]"
   ]
  },
  {
   "cell_type": "code",
   "execution_count": 9,
   "id": "d20f1de5",
   "metadata": {},
   "outputs": [
    {
     "name": "stdout",
     "output_type": "stream",
     "text": [
      "511 ns ± 6.28 ns per loop (mean ± std. dev. of 7 runs, 1,000,000 loops each)\n",
      "513 ns ± 5.08 ns per loop (mean ± std. dev. of 7 runs, 1,000,000 loops each)\n",
      "109 ns ± 0.273 ns per loop (mean ± std. dev. of 7 runs, 10,000,000 loops each)\n"
     ]
    }
   ],
   "source": [
    "a = np.arange(24).astype(np.int64)\n",
    "i = np.array([0, 1, 2, 17, 4, 5, 9, 7, 3, 15, 22, 10, 12, 13, 14, 16, 6, 18, 8, 19, 20, 21, 23, 11]).astype(np.uint8)\n",
    "j = i.astype(np.int32)\n",
    "k = i.astype(np.int64)\n",
    "\n",
    "%timeit a[i]\n",
    "%timeit a[j]\n",
    "%timeit a[k]"
   ]
  },
  {
   "cell_type": "code",
   "execution_count": 8,
   "id": "b52bc714",
   "metadata": {},
   "outputs": [],
   "source": [
    "import matplotlib.pyplot as plt"
   ]
  },
  {
   "cell_type": "code",
   "execution_count": 12,
   "id": "03764432",
   "metadata": {},
   "outputs": [
    {
     "data": {
      "text/plain": [
       "Text(0.5, 1.0, 'Constraining the Search Space')"
      ]
     },
     "execution_count": 12,
     "metadata": {},
     "output_type": "execute_result"
    },
    {
     "data": {
      "image/png": "[encoded data removed]",
      "text/plain": [
       "<Figure size 800x400 with 1 Axes>"
      ]
     },
     "metadata": {},
     "output_type": "display_data"
    }
   ],
   "source": [
    "base = 220\n",
    "con1 = 191\n",
    "con2 = 168\n",
    "fig, ax = plt.subplots(1,1)\n",
    "fig.set_size_inches(8,4)\n",
    "ax.bar(np.arange(3), [220,0,0], label='base')\n",
    "ax.bar(np.arange(3), [0,191,0], label='base')\n",
    "ax.bar(np.arange(3), [0,0,168], label='base')\n",
    "ax.set_xticks(range(3), ['Base', 'Constraint I', 'Constraint II'])\n",
    "ax.set_ylabel('seconds, lower is better')\n",
    "ax.set_title('Constraining the Search Space')"
   ]
  },
  {
   "cell_type": "markdown",
   "id": "e84311a8",
   "metadata": {},
   "source": [
    "```\n",
    "10.2 s ± 5.75 ms per loop (mean ± std. dev. of 3 runs, 1 loop each)\n",
    "11.9 s ± 92.5 ms per loop (mean ± std. dev. of 3 runs, 1 loop each)\n",
    "11.4 s ± 167 ms per loop (mean ± std. dev. of 3 runs, 1 loop each)\n",
    "```"
   ]
  },
  {
   "cell_type": "code",
   "execution_count": 15,
   "id": "46a9f034",
   "metadata": {},
   "outputs": [
    {
     "data": {
      "text/plain": [
       "Text(0.5, 1.0, 'Faster Cube Manipulation')"
      ]
     },
     "execution_count": 15,
     "metadata": {},
     "output_type": "execute_result"
    },
    {
     "data": {
      "image/png": "[encoded data removed]",
      "text/plain": [
       "<Figure size 800x400 with 1 Axes>"
      ]
     },
     "metadata": {},
     "output_type": "display_data"
    }
   ],
   "source": [
    "fig, ax = plt.subplots(1,1)\n",
    "fig.set_size_inches(8,4)\n",
    "ax.bar(np.arange(3), [10.2,0,0], label='base')\n",
    "ax.bar(np.arange(3), [0,11.9,0], label='base')\n",
    "ax.bar(np.arange(3), [0,0,11.4], label='base')\n",
    "ax.set_xticks(range(3), ['Base', 'Constraint I', 'Constraint II'])\n",
    "ax.set_ylabel('seconds, lower is better')\n",
    "ax.set_title('Faster Cube Manipulation')"
   ]
  },
  {
   "cell_type": "code",
   "execution_count": 14,
   "id": "f316b1aa",
   "metadata": {},
   "outputs": [
    {
     "name": "stdout",
     "output_type": "stream",
     "text": [
      "1.16 µs ± 2.24 ns per loop (mean ± std. dev. of 7 runs, 1,000,000 loops each)\n",
      "1.26 µs ± 9.58 ns per loop (mean ± std. dev. of 7 runs, 1,000,000 loops each)\n",
      "115 ns ± 0.078 ns per loop (mean ± std. dev. of 7 runs, 10,000,000 loops each)\n"
     ]
    }
   ],
   "source": [
    "a = np.arange(24).astype(np.uint8)\n",
    "def move(cube):\n",
    "    return cube[[0, 1, 2, 17, 4, 5, 9, 7, 3, 15, 22, 10, 12, 13, 14, 16, 6, 18, 8, 19, 20, 21, 23, 11]]\n",
    "i = [0, 1, 2, 17, 4, 5, 9, 7, 3, 15, 22, 10, 12, 13, 14, 16, 6, 18, 8, 19, 20, 21, 23, 11] \n",
    "j = move\n",
    "k = np.array(i)\n",
    "\n",
    "%timeit a[i]\n",
    "%timeit j(a)\n",
    "%timeit a[k]"
   ]
  },
  {
   "cell_type": "code",
   "execution_count": 16,
   "id": "54868a51",
   "metadata": {},
   "outputs": [
    {
     "data": {
      "text/plain": [
       "Text(0.5, 1.0, 'Indexing Numpy Arrays')"
      ]
     },
     "execution_count": 16,
     "metadata": {},
     "output_type": "execute_result"
    },
    {
     "data": {
      "image/png": "[encoded data removed]",
      "text/plain": [
       "<Figure size 800x400 with 1 Axes>"
      ]
     },
     "metadata": {},
     "output_type": "display_data"
    }
   ],
   "source": [
    "fig, ax = plt.subplots(1,1)\n",
    "fig.set_size_inches(8,4)\n",
    "ax.bar(np.arange(3), [1.16,0,0], label='base')\n",
    "ax.bar(np.arange(3), [0,1.26,0], label='base')\n",
    "ax.bar(np.arange(3), [0,0,0.115], label='base')\n",
    "ax.set_xticks(range(3), ['with list', 'with list, function result', 'with Numpy array'])\n",
    "ax.set_ylabel('µs, lower is better')\n",
    "ax.set_title('Indexing Numpy Arrays')"
   ]
  },
  {
   "cell_type": "code",
   "execution_count": 3,
   "id": "aafbf3c2",
   "metadata": {},
   "outputs": [
    {
     "data": {
      "text/plain": [
       "1.1578947368421053"
      ]
     },
     "execution_count": 3,
     "metadata": {},
     "output_type": "execute_result"
    }
   ],
   "source": [
    "1/(190/220)"
   ]
  },
  {
   "cell_type": "code",
   "execution_count": 4,
   "id": "b716296d",
   "metadata": {},
   "outputs": [
    {
     "data": {
      "text/plain": [
       "1.1578947368421053"
      ]
     },
     "execution_count": 4,
     "metadata": {},
     "output_type": "execute_result"
    }
   ],
   "source": [
    "220/190"
   ]
  },
  {
   "cell_type": "code",
   "execution_count": null,
   "id": "edd6a907",
   "metadata": {},
   "outputs": [],
   "source": [
    "v = x / 220\n",
    "v2 = x / 190\n",
    "v2 - v1 = "
   ]
  },
  {
   "cell_type": "code",
   "execution_count": 5,
   "id": "1752ba4e",
   "metadata": {},
   "outputs": [
    {
     "data": {
      "text/plain": [
       "0.13636363636363635"
      ]
     },
     "execution_count": 5,
     "metadata": {},
     "output_type": "execute_result"
    }
   ],
   "source": [
    "30/220"
   ]
  },
  {
   "cell_type": "code",
   "execution_count": 6,
   "id": "7c95e5df",
   "metadata": {},
   "outputs": [
    {
     "data": {
      "text/plain": [
       "191.4"
      ]
     },
     "execution_count": 6,
     "metadata": {},
     "output_type": "execute_result"
    }
   ],
   "source": [
    "220-0.13*220"
   ]
  },
  {
   "cell_type": "code",
   "execution_count": 14,
   "id": "c78129df",
   "metadata": {},
   "outputs": [
    {
     "data": {
      "text/plain": [
       "Text(0.5, 1.0, 'Constraining the Search Space')"
      ]
     },
     "execution_count": 14,
     "metadata": {},
     "output_type": "execute_result"
    },
    {
     "data": {
      "image/png": "[encoded data removed]",
      "text/plain": [
       "<Figure size 800x400 with 1 Axes>"
      ]
     },
     "metadata": {},
     "output_type": "display_data"
    }
   ],
   "source": [
    "base = 220\n",
    "con1 = 191\n",
    "con2 = 168\n",
    "fig, ax = plt.subplots(1,1)\n",
    "fig.set_size_inches(8,4)\n",
    "ax.bar(np.arange(3), [220,0,0], label='base')\n",
    "ax.bar(np.arange(3), [0,191,0], label='base')\n",
    "ax.bar(np.arange(3), [0,0,168], label='base')\n",
    "ax.set_xticks(range(3), ['Base', 'Constraint I', 'Constraint II'])\n",
    "ax.set_ylabel('seconds, lower is better')\n",
    "ax.set_title('Constraining the Search Space')"
   ]
  },
  {
   "cell_type": "code",
   "execution_count": null,
   "id": "272882f1",
   "metadata": {},
   "outputs": [],
   "source": []
  }
 ],
 "metadata": {
  "kernelspec": {
   "display_name": "Python 3 (ipykernel)",
   "language": "python",
   "name": "python3"
  },
  "language_info": {
   "codemirror_mode": {
    "name": "ipython",
    "version": 3
   },
   "file_extension": ".py",
   "mimetype": "text/x-python",
   "name": "python",
   "nbconvert_exporter": "python",
   "pygments_lexer": "ipython3",
   "version": "3.10.4"
  }
 },
 "nbformat": 4,
 "nbformat_minor": 5
}
